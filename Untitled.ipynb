{
 "cells": [
  {
   "cell_type": "code",
   "execution_count": 12,
   "metadata": {},
   "outputs": [
    {
     "name": "stdout",
     "output_type": "stream",
     "text": [
      "unzip:  cannot find or open C:UsersHPDownloadsobservations-88543.csv.zip, C:UsersHPDownloadsobservations-88543.csv.zip.zip or C:UsersHPDownloadsobservations-88543.csv.zip.ZIP.\n"
     ]
    }
   ],
   "source": [
    "#!wget https://s3.console.aws.amazon.com/s3/buckets/mlelephants/?region=us-west-2\n",
    "!unzip -qo C:\\Users\\HP\\Downloads\\observations-88543.csv.zip"
   ]
  },
  {
   "cell_type": "code",
   "execution_count": null,
   "metadata": {},
   "outputs": [],
   "source": []
  }
 ],
 "metadata": {
  "kernelspec": {
   "display_name": "conda_python3",
   "language": "python",
   "name": "conda_python3"
  },
  "language_info": {
   "codemirror_mode": {
    "name": "ipython",
    "version": 3
   },
   "file_extension": ".py",
   "mimetype": "text/x-python",
   "name": "python",
   "nbconvert_exporter": "python",
   "pygments_lexer": "ipython3",
   "version": "3.6.5"
  }
 },
 "nbformat": 4,
 "nbformat_minor": 4
}
